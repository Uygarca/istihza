{
 "cells": [
  {
   "cell_type": "markdown",
   "metadata": {},
   "source": [
    "# örnek uygulamalar yardımıcı"
   ]
  },
  {
   "cell_type": "code",
   "execution_count": 2,
   "metadata": {},
   "outputs": [],
   "source": [
    "ilk_dizi = \"asdasfddgdhfjfdgdşfkgjdfklgşjdfklgjdfkghdfjghjklsdhajlsdhjkjhkhjjh\"\n",
    "ikinci_dizi = \"sdfsuıdoryeuıfsjkdfhdjklghjdfklruseldhfjlkdshfljskeeuf\""
   ]
  },
  {
   "cell_type": "markdown",
   "metadata": {},
   "source": [
    "ilk dizide olan ikinci dizide olmayan karakterleri bulma"
   ]
  },
  {
   "cell_type": "markdown",
   "metadata": {},
   "source": [
    "akla gelen yöntem ile algoritmasını oluşturalım\n",
    "1 ilk dizideki her bir karekteri ikinci dizideki her ir karakterle karşılaştırmak\n",
    "eğer ilk dizideki karakter ikinci dizide yok ise\n",
    "bu karakteri yazdır"
   ]
  },
  {
   "cell_type": "code",
   "execution_count": 3,
   "metadata": {},
   "outputs": [
    {
     "name": "stdout",
     "output_type": "stream",
     "text": [
      "a\n",
      "a\n",
      "ş\n",
      "ş\n",
      "a\n"
     ]
    }
   ],
   "source": [
    "for i in ilk_dizi:\n",
    "    if not i in ikinci_dizi:\n",
    "        print(i)"
   ]
  },
  {
   "cell_type": "markdown",
   "metadata": {},
   "source": [
    "tamam peki ikinci dizide olana ama birinci dizide olmayan karakterler için ne yapmalı"
   ]
  },
  {
   "cell_type": "code",
   "execution_count": 4,
   "metadata": {},
   "outputs": [
    {
     "name": "stdout",
     "output_type": "stream",
     "text": [
      "u\n",
      "ı\n",
      "o\n",
      "r\n",
      "y\n",
      "e\n",
      "u\n",
      "ı\n",
      "r\n",
      "u\n",
      "e\n",
      "e\n",
      "e\n",
      "u\n"
     ]
    }
   ],
   "source": [
    "for i in ikinci_dizi:\n",
    "    if not i in ilk_dizi:\n",
    "        print(i)"
   ]
  },
  {
   "cell_type": "markdown",
   "metadata": {},
   "source": [
    "yapılması gereken sadece ilk dizi ile ikinci dizinin yerlerini değitirmek,"
   ]
  },
  {
   "cell_type": "markdown",
   "metadata": {},
   "source": [
    "Ama burada bir durum var aynı jarakter her iki örnektede birden çok var\n",
    "bunları tekrarsız nasıl yazabiliriz."
   ]
  },
  {
   "cell_type": "raw",
   "metadata": {},
   "source": [
    "Bunun için bir algoritma oluşturalım\n",
    "en başından başlayarak. \n",
    "0 fark adlı bir değişken oluşitur\n",
    "1 ikinci dizindeki her bir karakteri ilk dizin deki karakterler ile karşılaştır.\n",
    "2 eğer ilk dizinde yoksa \n",
    "3 fark içinde varmı bak \n",
    "4 fark içine aynı karakter yok ise ekle\n",
    "5 işlem bitince fark değişkeninin değerini yazdır"
   ]
  },
  {
   "cell_type": "code",
   "execution_count": 6,
   "metadata": {},
   "outputs": [
    {
     "data": {
      "text/plain": [
       "'asdasfddgdhfjfdgdşfkgjdfklgşjdfklgjdfkghdfjghjklsdhajlsdhjkjhkhjjh'"
      ]
     },
     "execution_count": 6,
     "metadata": {},
     "output_type": "execute_result"
    }
   ],
   "source": [
    "ilk_dizi"
   ]
  },
  {
   "cell_type": "code",
   "execution_count": 7,
   "metadata": {},
   "outputs": [
    {
     "data": {
      "text/plain": [
       "'sdfsuıdoryeuıfsjkdfhdjklghjdfklruseldhfjlkdshfljskeeuf'"
      ]
     },
     "execution_count": 7,
     "metadata": {},
     "output_type": "execute_result"
    }
   ],
   "source": [
    "ikinci_dizi"
   ]
  },
  {
   "cell_type": "code",
   "execution_count": 8,
   "metadata": {},
   "outputs": [
    {
     "name": "stdout",
     "output_type": "stream",
     "text": [
      "uıorye\n"
     ]
    }
   ],
   "source": [
    "fark = \"\"\n",
    "for i in ikinci_dizi:\n",
    "    if not i in ilk_dizi:\n",
    "        if not i in fark:\n",
    "            fark += i\n",
    "print(fark)"
   ]
  },
  {
   "cell_type": "markdown",
   "metadata": {},
   "source": [
    "yukarıdaki işlem ile bir önce fark lı olan karakterler tekrarsız olarak listelendi"
   ]
  },
  {
   "cell_type": "raw",
   "metadata": {},
   "source": [
    "burada bir konuya dikkat etmemiz söyleniyor ilk başta oluşturulan fark değişkeni ile fark += i sonrası oluşturulan \n",
    "fark değişkeni aynı değişkenler değiller \n",
    "bunu teyit etmek için \"id\" komutunu kullanarak tekrar yazıcaz id adreslerinin aynı olmadığını görücez"
   ]
  },
  {
   "cell_type": "code",
   "execution_count": 12,
   "metadata": {},
   "outputs": [
    {
     "name": "stdout",
     "output_type": "stream",
     "text": [
      "ilk oluşturulan fark değişkeninin adresi 2191553559664\n",
      "uıorye\n",
      "son oluşturulan fark değişkeninin adresi 2191624769360\n"
     ]
    }
   ],
   "source": [
    "fark = \"\"\n",
    "print(\"ilk oluşturulan fark değişkeninin adresi\",id(fark))\n",
    "for i in ikinci_dizi:\n",
    "    if not i in ilk_dizi:\n",
    "        if not i in fark:\n",
    "            fark += i\n",
    "print(fark)\n",
    "print(\"son oluşturulan fark değişkeninin adresi\",id(fark))"
   ]
  },
  {
   "cell_type": "raw",
   "metadata": {},
   "source": [
    "yularıda görüldüğü üzere fark += i ile koşul her sağlandığında adres değişmektedir. her seferinde içerik değişmekte ve farklı bir değişken olmaktadır. kalıcı olarak değişim sağlanır."
   ]
  },
  {
   "cell_type": "raw",
   "metadata": {},
   "source": [
    "bu arada yukarıdaki kodu farklı bir şekildede yazabilirdik. \n",
    "ikinci dizi değişkenin deki her bir karakteri ilk dizin ile karşılaştır\n",
    "eğer ilk dizinde yok ise VE fark değişkeninde yok ise\n",
    "fark değişkenine ekle\n",
    "fark değişkenini yazdır\n",
    "aşaıdaki gibi"
   ]
  },
  {
   "cell_type": "code",
   "execution_count": 16,
   "metadata": {},
   "outputs": [
    {
     "name": "stdout",
     "output_type": "stream",
     "text": [
      "uıorye\n"
     ]
    }
   ],
   "source": [
    "fark = \"\"\n",
    "for i in ikinci_dizi:\n",
    "    if not i in ilk_dizi and not i in fark:# her iki koşulu and işleci ile bir araya getirdik\n",
    "        fark += i\n",
    "print(fark)"
   ]
  },
  {
   "cell_type": "markdown",
   "metadata": {},
   "source": [
    "bir sonraki konu \n",
    "dosyaların içeriklerini karşılaştırma"
   ]
  },
  {
   "cell_type": "code",
   "execution_count": 7,
   "metadata": {},
   "outputs": [],
   "source": [
    "import os #hangi dizine olduğunu görmek için "
   ]
  },
  {
   "cell_type": "code",
   "execution_count": 8,
   "metadata": {},
   "outputs": [
    {
     "data": {
      "text/plain": [
       "'C:\\\\Users\\\\User\\\\Desktop\\\\İstihza çalışmaları'"
      ]
     },
     "execution_count": 8,
     "metadata": {},
     "output_type": "execute_result"
    }
   ],
   "source": [
    "os.getcwd () # bu kod ile öğreniyoruz"
   ]
  },
  {
   "cell_type": "code",
   "execution_count": 15,
   "metadata": {},
   "outputs": [],
   "source": [
    "d1  = open(\"isimler1.txt\")"
   ]
  },
  {
   "cell_type": "code",
   "execution_count": 16,
   "metadata": {},
   "outputs": [],
   "source": [
    "d1_satırlar = d1.readlines()"
   ]
  },
  {
   "cell_type": "code",
   "execution_count": 17,
   "metadata": {},
   "outputs": [],
   "source": [
    "d2  = open(\"isimler2.txt\")\n",
    "d2_satırlar = d1.readlines()"
   ]
  },
  {
   "cell_type": "code",
   "execution_count": 19,
   "metadata": {},
   "outputs": [],
   "source": [
    "for i in d2_satırlar:\n",
    "    if not i in d1_satırlar:\n",
    "        print(i)\n",
    "\n",
    "d1.close()\n",
    "d2.close()"
   ]
  },
  {
   "cell_type": "code",
   "execution_count": 21,
   "metadata": {},
   "outputs": [],
   "source": [
    "d1  = open(\"isimler1.txt\")\n",
    "d1_satırlar = d1.readlines()\n",
    "\n",
    "d2  = open(\"isimler2.txt\")\n",
    "d2_satırlar = d1.readlines()\n",
    "\n",
    "for i in d2_satırlar:\n",
    "    if not i in d1_satırlar:\n",
    "        print(i)\n",
    "\n",
    "d1.close()\n",
    "d2.close()"
   ]
  },
  {
   "cell_type": "code",
   "execution_count": null,
   "metadata": {},
   "outputs": [],
   "source": []
  },
  {
   "cell_type": "code",
   "execution_count": null,
   "metadata": {},
   "outputs": [],
   "source": []
  }
 ],
 "metadata": {
  "kernelspec": {
   "display_name": "Python 3",
   "language": "python",
   "name": "python3"
  },
  "language_info": {
   "codemirror_mode": {
    "name": "ipython",
    "version": 3
   },
   "file_extension": ".py",
   "mimetype": "text/x-python",
   "name": "python",
   "nbconvert_exporter": "python",
   "pygments_lexer": "ipython3",
   "version": "3.7.0"
  }
 },
 "nbformat": 4,
 "nbformat_minor": 2
}
