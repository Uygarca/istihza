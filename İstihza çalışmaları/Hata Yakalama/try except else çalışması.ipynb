{
 "cells": [
  {
   "cell_type": "markdown",
   "metadata": {},
   "source": [
    "# try... except... else..."
   ]
  },
  {
   "cell_type": "markdown",
   "metadata": {},
   "source": [
    "try except else için örnekten devam edelim sonra açıklamamıza bakalım"
   ]
  },
  {
   "cell_type": "markdown",
   "metadata": {},
   "source": [
    "Önce try except ile bir örnek yapalım"
   ]
  },
  {
   "cell_type": "code",
   "execution_count": 3,
   "metadata": {},
   "outputs": [
    {
     "name": "stdout",
     "output_type": "stream",
     "text": [
      "bölünecek sayı\t:14\n",
      "bölen\t:ff\n",
      "Rakam girin lütfen\n"
     ]
    }
   ],
   "source": [
    "try:\n",
    "    bölünen = int(input(\"bölünecek sayı\\t:\"))\n",
    "    bölen = int(input(\"bölen\\t:\"))\n",
    "    print(bölünen,\"/\",bölen,\"=\",bölünen / bölen)\n",
    "    \n",
    "except ValueError:\n",
    "    print(\"Rakam girin lütfen\")\n",
    "    \n",
    "except ZeroDivisionError:\n",
    "    print(\"sayıyı 0'a bölemezsiniz\")"
   ]
  },
  {
   "cell_type": "code",
   "execution_count": 4,
   "metadata": {},
   "outputs": [
    {
     "name": "stdout",
     "output_type": "stream",
     "text": [
      "bölünecek sayı\t:14\n",
      "bölen\t:0\n",
      "sayıyı 0'a bölemezsiniz\n"
     ]
    }
   ],
   "source": [
    "try:\n",
    "    bölünen = int(input(\"bölünecek sayı\\t:\"))\n",
    "    bölen = int(input(\"bölen\\t:\"))\n",
    "    print(bölünen,\"/\",bölen,\"=\",bölünen / bölen)\n",
    "    \n",
    "except ValueError:\n",
    "    print(\"Rakam girin lütfen\")\n",
    "    \n",
    "except ZeroDivisionError:\n",
    "    print(\"sayıyı 0'a bölemezsiniz\")"
   ]
  },
  {
   "cell_type": "markdown",
   "metadata": {},
   "source": [
    "Yukarıdaki örneklerde her iki hataya ait durumları oluşturduk. ama hepsini tek bir try altında yaptık. Else ile bu durum farklı bir şekildede gerçekleştirebiliriz."
   ]
  },
  {
   "cell_type": "code",
   "execution_count": 5,
   "metadata": {},
   "outputs": [
    {
     "name": "stdout",
     "output_type": "stream",
     "text": [
      "bölünecek sayı\t:14\n",
      "bölen\t:ff\n",
      "Rakam girin lütfen\n"
     ]
    }
   ],
   "source": [
    "try:\n",
    "    bölünen = int(input(\"bölünecek sayı\\t:\"))\n",
    "    bölen = int(input(\"bölen\\t:\"))\n",
    "    \n",
    "except ValueError:\n",
    "    print(\"Rakam girin lütfen\")\n",
    "else:\n",
    "\n",
    "    try:\n",
    "        print(bölünen/bölen)\n",
    "        \n",
    "    except ZeroDivisionError:\n",
    "        print(\"sayıyı 0'a bölemezsiniz\")"
   ]
  },
  {
   "cell_type": "code",
   "execution_count": 6,
   "metadata": {},
   "outputs": [
    {
     "name": "stdout",
     "output_type": "stream",
     "text": [
      "bölünecek sayı\t:14\n",
      "bölen\t:0\n",
      "sayıyı 0'a bölemezsiniz\n"
     ]
    }
   ],
   "source": [
    "try:\n",
    "    bölünen = int(input(\"bölünecek sayı\\t:\"))\n",
    "    bölen = int(input(\"bölen\\t:\"))\n",
    "    \n",
    "except ValueError:\n",
    "    print(\"Rakam girin lütfen\")\n",
    "else:\n",
    "\n",
    "    try:\n",
    "        print(bölünen/bölen)\n",
    "        \n",
    "    except ZeroDivisionError:\n",
    "        print(\"sayıyı 0'a bölemezsiniz\")"
   ]
  },
  {
   "cell_type": "markdown",
   "metadata": {},
   "source": [
    "## Yukarıdaki hata yakalama yapısı try except else kullanıldığı programlarda kodun okunurluğu ve bütünlüğüne zarar verir bu nedenle hiç "
   ]
  }
 ],
 "metadata": {
  "kernelspec": {
   "display_name": "Python 3",
   "language": "python",
   "name": "python3"
  },
  "language_info": {
   "codemirror_mode": {
    "name": "ipython",
    "version": 3
   },
   "file_extension": ".py",
   "mimetype": "text/x-python",
   "name": "python",
   "nbconvert_exporter": "python",
   "pygments_lexer": "ipython3",
   "version": "3.7.0"
  }
 },
 "nbformat": 4,
 "nbformat_minor": 2
}
