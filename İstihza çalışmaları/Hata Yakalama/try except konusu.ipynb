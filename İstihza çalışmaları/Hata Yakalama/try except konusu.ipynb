{
 "cells": [
  {
   "cell_type": "markdown",
   "metadata": {},
   "source": [
    "## Hata Yakalama"
   ]
  },
  {
   "cell_type": "markdown",
   "metadata": {},
   "source": [
    "Hatalar 3 türe ayrılır\n"
   ]
  },
  {
   "cell_type": "raw",
   "metadata": {},
   "source": [
    "1 Programcı hataları\n",
    "2 Program kusurları(Bugs)\n",
    "3 İstisnalar (Expection)"
   ]
  },
  {
   "cell_type": "raw",
   "metadata": {},
   "source": [
    "istisna hatalara bir örnek ve çalışma"
   ]
  },
  {
   "cell_type": "code",
   "execution_count": 2,
   "metadata": {},
   "outputs": [
    {
     "name": "stdout",
     "output_type": "stream",
     "text": [
      "İlk sayı\t:14\n",
      "İkinci sayı\t:6\n",
      "14 / 6 = 2.3333333333333335\n"
     ]
    }
   ],
   "source": [
    "ilk_sayi = int(input(\"İlk sayı\\t:\"))\n",
    "ikinci_sayı = int(input(\"İkinci sayı\\t:\"))\n",
    "\n",
    "print(ilk_sayi,\"/\",ikinci_sayı,\"=\",ilk_sayi / ikinci_sayı)"
   ]
  },
  {
   "cell_type": "raw",
   "metadata": {},
   "source": [
    "yukarıdaki programa iki sayısal değer girildiğinde sorunsuz çalışır\n",
    "ama sayı yerine karakter girilirse aşağıdaki hatayı verir"
   ]
  },
  {
   "cell_type": "code",
   "execution_count": 3,
   "metadata": {},
   "outputs": [
    {
     "name": "stdout",
     "output_type": "stream",
     "text": [
      "İlk sayı\t:faf\n"
     ]
    },
    {
     "ename": "ValueError",
     "evalue": "invalid literal for int() with base 10: 'faf'",
     "output_type": "error",
     "traceback": [
      "\u001b[1;31m---------------------------------------------------------------------------\u001b[0m",
      "\u001b[1;31mValueError\u001b[0m                                Traceback (most recent call last)",
      "\u001b[1;32m<ipython-input-3-9c7461173927>\u001b[0m in \u001b[0;36m<module>\u001b[1;34m()\u001b[0m\n\u001b[1;32m----> 1\u001b[1;33m \u001b[0milk_sayi\u001b[0m \u001b[1;33m=\u001b[0m \u001b[0mint\u001b[0m\u001b[1;33m(\u001b[0m\u001b[0minput\u001b[0m\u001b[1;33m(\u001b[0m\u001b[1;34m\"İlk sayı\\t:\"\u001b[0m\u001b[1;33m)\u001b[0m\u001b[1;33m)\u001b[0m\u001b[1;33m\u001b[0m\u001b[0m\n\u001b[0m\u001b[0;32m      2\u001b[0m \u001b[0mikinci_sayı\u001b[0m \u001b[1;33m=\u001b[0m \u001b[0mint\u001b[0m\u001b[1;33m(\u001b[0m\u001b[0minput\u001b[0m\u001b[1;33m(\u001b[0m\u001b[1;34m\"İkinci sayı\\t:\"\u001b[0m\u001b[1;33m)\u001b[0m\u001b[1;33m)\u001b[0m\u001b[1;33m\u001b[0m\u001b[0m\n\u001b[0;32m      3\u001b[0m \u001b[1;33m\u001b[0m\u001b[0m\n\u001b[0;32m      4\u001b[0m \u001b[0mprint\u001b[0m\u001b[1;33m(\u001b[0m\u001b[0milk_sayi\u001b[0m\u001b[1;33m,\u001b[0m\u001b[1;34m\"/\"\u001b[0m\u001b[1;33m,\u001b[0m\u001b[0mikinci_sayı\u001b[0m\u001b[1;33m,\u001b[0m\u001b[1;34m\"=\"\u001b[0m\u001b[1;33m,\u001b[0m\u001b[0milk_sayi\u001b[0m \u001b[1;33m/\u001b[0m \u001b[0mikinci_sayı\u001b[0m\u001b[1;33m)\u001b[0m\u001b[1;33m\u001b[0m\u001b[0m\n",
      "\u001b[1;31mValueError\u001b[0m: invalid literal for int() with base 10: 'faf'"
     ]
    }
   ],
   "source": [
    "ilk_sayi = int(input(\"İlk sayı\\t:\"))\n",
    "ikinci_sayı = int(input(\"İkinci sayı\\t:\"))\n",
    "\n",
    "print(ilk_sayi,\"/\",ikinci_sayı,\"=\",ilk_sayi / ikinci_sayı)"
   ]
  },
  {
   "cell_type": "markdown",
   "metadata": {},
   "source": [
    "yada sıfıra bölününce hata verir"
   ]
  },
  {
   "cell_type": "code",
   "execution_count": 5,
   "metadata": {},
   "outputs": [
    {
     "name": "stdout",
     "output_type": "stream",
     "text": [
      "İlk sayı\t:14\n",
      "İkinci sayı\t:0\n"
     ]
    },
    {
     "ename": "ZeroDivisionError",
     "evalue": "division by zero",
     "output_type": "error",
     "traceback": [
      "\u001b[1;31m---------------------------------------------------------------------------\u001b[0m",
      "\u001b[1;31mZeroDivisionError\u001b[0m                         Traceback (most recent call last)",
      "\u001b[1;32m<ipython-input-5-9c7461173927>\u001b[0m in \u001b[0;36m<module>\u001b[1;34m()\u001b[0m\n\u001b[0;32m      2\u001b[0m \u001b[0mikinci_sayı\u001b[0m \u001b[1;33m=\u001b[0m \u001b[0mint\u001b[0m\u001b[1;33m(\u001b[0m\u001b[0minput\u001b[0m\u001b[1;33m(\u001b[0m\u001b[1;34m\"İkinci sayı\\t:\"\u001b[0m\u001b[1;33m)\u001b[0m\u001b[1;33m)\u001b[0m\u001b[1;33m\u001b[0m\u001b[0m\n\u001b[0;32m      3\u001b[0m \u001b[1;33m\u001b[0m\u001b[0m\n\u001b[1;32m----> 4\u001b[1;33m \u001b[0mprint\u001b[0m\u001b[1;33m(\u001b[0m\u001b[0milk_sayi\u001b[0m\u001b[1;33m,\u001b[0m\u001b[1;34m\"/\"\u001b[0m\u001b[1;33m,\u001b[0m\u001b[0mikinci_sayı\u001b[0m\u001b[1;33m,\u001b[0m\u001b[1;34m\"=\"\u001b[0m\u001b[1;33m,\u001b[0m\u001b[0milk_sayi\u001b[0m \u001b[1;33m/\u001b[0m \u001b[0mikinci_sayı\u001b[0m\u001b[1;33m)\u001b[0m\u001b[1;33m\u001b[0m\u001b[0m\n\u001b[0m",
      "\u001b[1;31mZeroDivisionError\u001b[0m: division by zero"
     ]
    }
   ],
   "source": [
    "ilk_sayi = int(input(\"İlk sayı\\t:\"))\n",
    "ikinci_sayı = int(input(\"İkinci sayı\\t:\"))\n",
    "\n",
    "print(ilk_sayi,\"/\",ikinci_sayı,\"=\",ilk_sayi / ikinci_sayı)"
   ]
  },
  {
   "cell_type": "markdown",
   "metadata": {},
   "source": [
    "## try ........  except ...."
   ]
  },
  {
   "cell_type": "markdown",
   "metadata": {},
   "source": [
    "try ve except ile bir örnek yapıp eçıklamada buunalım\n",
    "bakalım nasıl çalışıyor"
   ]
  },
  {
   "cell_type": "code",
   "execution_count": 8,
   "metadata": {},
   "outputs": [
    {
     "name": "stdout",
     "output_type": "stream",
     "text": [
      "İlk sayı\t:16\n",
      "İkinci sayı\t:ff\n",
      "Lütfen sadece sayı girin\n"
     ]
    }
   ],
   "source": [
    "ilk_sayı = input(\"İlk sayı\\t:\")\n",
    "ikinci_sayı = input(\"İkinci sayı\\t:\")\n",
    "\n",
    "try:\n",
    "    sayı1 = int(ilk_sayı)\n",
    "    sayı2 = int(ikinci_sayı)\n",
    "    print(sayı1, \"/\", sayı2, \"=\", sayı1 / sayı2)\n",
    "except ValueError:\n",
    "    print(\"Lütfen sadece sayı girin\")"
   ]
  },
  {
   "cell_type": "markdown",
   "metadata": {},
   "source": [
    "yukarıda ki örnekte sayı yerine karakter girildiği zaman belirlediğimiz uyarıyı yayınladı"
   ]
  },
  {
   "cell_type": "raw",
   "metadata": {},
   "source": [
    "örnekte olanlar hata verilbilecek kodları \"try\"  bloğunun altına yazdık\n",
    "hata ile karşılaştığından \"exception\" ile hata olması durumunda yapılması gereken işlemi yaptık"
   ]
  },
  {
   "cell_type": "markdown",
   "metadata": {},
   "source": [
    "diğer hata mesajı ile sıfıra bölümde karşılaşmıştık \"ZeroDivisionEror\" şimdi bu hata için tekrar kodumuzu yazalım"
   ]
  },
  {
   "cell_type": "code",
   "execution_count": 9,
   "metadata": {},
   "outputs": [
    {
     "name": "stdout",
     "output_type": "stream",
     "text": [
      "İlk sayı\t:23\n",
      "İkinci sayı\t:0\n",
      "Bir sayıyı 0'a bölemezsiniz\n"
     ]
    }
   ],
   "source": [
    "ilk_sayı = input(\"İlk sayı\\t:\")\n",
    "ikinci_sayı = input(\"İkinci sayı\\t:\")\n",
    "\n",
    "try:\n",
    "    sayı1 = int(ilk_sayı)\n",
    "    sayı2 = int(ikinci_sayı)\n",
    "    print(sayı1, \"/\", sayı2, \"=\", sayı1 / sayı2)\n",
    "except ZeroDivisionError:\n",
    "    print(\"Bir sayıyı 0'a bölemezsiniz\")"
   ]
  },
  {
   "cell_type": "raw",
   "metadata": {},
   "source": [
    "try: altına hata alabilecek kodralımızı\n",
    "exception: altınada hata türünü ve yapılacak işlemleri yazıyoruz ve hatalı çıktıları engelliyoruz"
   ]
  },
  {
   "cell_type": "markdown",
   "metadata": {},
   "source": [
    "peki kodlarınızda iki hatayıda tek seferde nasıl engelleriz"
   ]
  },
  {
   "cell_type": "code",
   "execution_count": 13,
   "metadata": {},
   "outputs": [
    {
     "name": "stdout",
     "output_type": "stream",
     "text": [
      "İlk sayı\t:54\n",
      "İkinci sayı\t:aasd\n",
      "Lütfen sadece sayı girin\n"
     ]
    }
   ],
   "source": [
    "ilk_sayı = input(\"İlk sayı\\t:\")\n",
    "ikinci_sayı = input(\"İkinci sayı\\t:\")\n",
    "\n",
    "try:\n",
    "    sayı1 = int(ilk_sayı)\n",
    "    sayı2 = int(ikinci_sayı)\n",
    "    print(sayı1, \"/\", sayı2, \"=\", sayı1 / sayı2)\n",
    "except ValueError:\n",
    "    print(\"Lütfen sadece sayı girin\")\n",
    "except ZeroDivisionError:\n",
    "    print(\"Sayıyı 0'a bölemezsiniz\")"
   ]
  },
  {
   "cell_type": "markdown",
   "metadata": {},
   "source": [
    "yukarıda her iki durum için hata mesajı oluşturduk expection ile. ilk önce sayı yerine karakter yazdık"
   ]
  },
  {
   "cell_type": "code",
   "execution_count": 15,
   "metadata": {},
   "outputs": [
    {
     "name": "stdout",
     "output_type": "stream",
     "text": [
      "İlk sayı\t:14\n",
      "İkinci sayı\t:0\n",
      "Sayıyı 0'a bölemezsiniz\n"
     ]
    }
   ],
   "source": [
    "ilk_sayı = input(\"İlk sayı\\t:\")\n",
    "ikinci_sayı = input(\"İkinci sayı\\t:\")\n",
    "\n",
    "try:\n",
    "    sayı1 = int(ilk_sayı)\n",
    "    sayı2 = int(ikinci_sayı)\n",
    "    print(sayı1, \"/\", sayı2, \"=\", sayı1 / sayı2)\n",
    "except ValueError:\n",
    "    print(\"Lütfen sadece sayı girin\")\n",
    "except ZeroDivisionError:\n",
    "    print(\"Sayıyı 0'a bölemezsiniz\")"
   ]
  },
  {
   "cell_type": "markdown",
   "metadata": {},
   "source": [
    "Şimdide sayıyı 0 a bölmeye çalıştık her iki durumdada hata mesajlarımız başarılı şekilde çalıştı ama aşağıda 2 hatayıda deneyeceğim bakalım sonuç ne olacak"
   ]
  },
  {
   "cell_type": "code",
   "execution_count": 16,
   "metadata": {},
   "outputs": [
    {
     "name": "stdout",
     "output_type": "stream",
     "text": [
      "İlk sayı\t:ff\n",
      "İkinci sayı\t:0\n",
      "Lütfen sadece sayı girin\n"
     ]
    }
   ],
   "source": [
    "ilk_sayı = input(\"İlk sayı\\t:\")\n",
    "ikinci_sayı = input(\"İkinci sayı\\t:\")\n",
    "\n",
    "try:\n",
    "    sayı1 = int(ilk_sayı)\n",
    "    sayı2 = int(ikinci_sayı)\n",
    "    print(sayı1, \"/\", sayı2, \"=\", sayı1 / sayı2)\n",
    "except ValueError:\n",
    "    print(\"Lütfen sadece sayı girin\")\n",
    "except ZeroDivisionError:\n",
    "    print(\"Sayıyı 0'a bölemezsiniz\")"
   ]
  },
  {
   "cell_type": "markdown",
   "metadata": {},
   "source": [
    "ilk hata karakter hatası olduğu için diğer hata gelmeden mesaj verildi"
   ]
  },
  {
   "cell_type": "code",
   "execution_count": 17,
   "metadata": {},
   "outputs": [
    {
     "name": "stdout",
     "output_type": "stream",
     "text": [
      "İlk sayı\t:0\n",
      "İkinci sayı\t:ff\n",
      "Lütfen sadece sayı girin\n"
     ]
    }
   ],
   "source": [
    "ilk_sayı = input(\"İlk sayı\\t:\")\n",
    "ikinci_sayı = input(\"İkinci sayı\\t:\")\n",
    "\n",
    "try:\n",
    "    sayı1 = int(ilk_sayı)\n",
    "    sayı2 = int(ikinci_sayı)\n",
    "    print(sayı1, \"/\", sayı2, \"=\", sayı1 / sayı2)\n",
    "except ValueError:\n",
    "    print(\"Lütfen sadece sayı girin\")\n",
    "except ZeroDivisionError:\n",
    "    print(\"Sayıyı 0'a bölemezsiniz\")"
   ]
  },
  {
   "cell_type": "markdown",
   "metadata": {},
   "source": [
    "yine aynı sonuç"
   ]
  },
  {
   "cell_type": "markdown",
   "metadata": {},
   "source": [
    "Hata mesajlarını tek tek vermek oğru karar kullanıcı ne hata yaptığını bu şekilde öğrenip düzeltebilir. \n",
    "ama bunun yerine birden çok hata durumu için tek bir hata mesajı yayınlanabilir"
   ]
  },
  {
   "cell_type": "code",
   "execution_count": 20,
   "metadata": {},
   "outputs": [
    {
     "name": "stdout",
     "output_type": "stream",
     "text": [
      "İlk sayı\t:14\n",
      "İkinci sayı\t:0\n",
      "Hatalı giriş yaptınız!\n"
     ]
    }
   ],
   "source": [
    "ilk_sayı = input(\"İlk sayı\\t:\")\n",
    "ikinci_sayı = input(\"İkinci sayı\\t:\")\n",
    "\n",
    "try:\n",
    "    sayı1 = int(ilk_sayı)\n",
    "    sayı2 = int(ikinci_sayı)\n",
    "    print(sayı1, \"/\", sayı2, \"=\", sayı1 / sayı2)\n",
    "except (ValueError,ZeroDivisionError):\n",
    "    print(\"Hatalı giriş yaptınız!\")"
   ]
  },
  {
   "cell_type": "markdown",
   "metadata": {},
   "source": [
    "Yukarıda hata türlerini birleştirdik ve hangi hata gelirse gelsin tek bir mesaj yayınladık"
   ]
  },
  {
   "cell_type": "code",
   "execution_count": 21,
   "metadata": {},
   "outputs": [
    {
     "name": "stdout",
     "output_type": "stream",
     "text": [
      "İlk sayı\t:ert\n",
      "İkinci sayı\t:15\n",
      "Hatalı giriş yaptınız!\n"
     ]
    }
   ],
   "source": [
    "ilk_sayı = input(\"İlk sayı\\t:\")\n",
    "ikinci_sayı = input(\"İkinci sayı\\t:\")\n",
    "\n",
    "try:\n",
    "    sayı1 = int(ilk_sayı)\n",
    "    sayı2 = int(ikinci_sayı)\n",
    "    print(sayı1, \"/\", sayı2, \"=\", sayı1 / sayı2)\n",
    "except (ValueError,ZeroDivisionError):\n",
    "    print(\"Hatalı giriş yaptınız!\")"
   ]
  },
  {
   "cell_type": "markdown",
   "metadata": {},
   "source": [
    "elzem bir durum olmadıkca birleşik hata durumunu kullanacağımı sanmıyorum.\n",
    "ayrı ayrı belirtmek daha doğru bir karar"
   ]
  },
  {
   "cell_type": "markdown",
   "metadata": {},
   "source": [
    "son bir dokunuş yaparak daha doğru bir program oluşturmak gerekiyor. bunu içim bir döngü kuralım"
   ]
  },
  {
   "cell_type": "code",
   "execution_count": 2,
   "metadata": {},
   "outputs": [
    {
     "name": "stdout",
     "output_type": "stream",
     "text": [
      "İlk sayı (çıkmak için 'q' basın)\t:ff\n",
      "İkinci sayı\t:0\n",
      "Hatalı giriş yaptınız!\n",
      "İlk sayı (çıkmak için 'q' basın)\t:ff\n",
      "İkinci sayı\t:ff\n",
      "Hatalı giriş yaptınız!\n",
      "İlk sayı (çıkmak için 'q' basın)\t:14\n",
      "İkinci sayı\t:0\n",
      "Hatalı giriş yaptınız!\n",
      "İlk sayı (çıkmak için 'q' basın)\t:q\n"
     ]
    }
   ],
   "source": [
    "while True:\n",
    "    ilk_sayı = input(\"İlk sayı (çıkmak için 'q' basın)\\t:\")\n",
    "    \n",
    "    if ilk_sayı == \"q\":\n",
    "        break\n",
    "        \n",
    "    ikinci_sayı = input(\"İkinci sayı\\t:\")\n",
    "    \n",
    "    try:\n",
    "        sayı1 = int(ilk_sayı)\n",
    "        sayı2 = int(ikinci_sayı)\n",
    "        print(sayı1, \"/\", sayı2, \"=\", sayı1 / sayı2)\n",
    "        \n",
    "    except (ValueError,ZeroDivisionError):\n",
    "        print(\"Hatalı giriş yaptınız!\")"
   ]
  },
  {
   "cell_type": "markdown",
   "metadata": {},
   "source": [
    "Yukarıda exception bloğu hata mesajarını birlikte verdiği için açıklayıcı mesaj vermeden sadece hata verdiini belirtiyor.\n",
    "ayrı ayrı belirtilmiş olsa idi hatanın nerden kaynaklandığını kullanıcı anlayıp ona göre doğru girişi yapabilirdi"
   ]
  },
  {
   "cell_type": "markdown",
   "metadata": {},
   "source": [
    "## try.... except.... as...."
   ]
  },
  {
   "cell_type": "markdown",
   "metadata": {},
   "source": [
    "ilk önce bir örnek yapalım sonra anlatmaya başlayalım"
   ]
  },
  {
   "cell_type": "code",
   "execution_count": null,
   "metadata": {},
   "outputs": [],
   "source": [
    "ilk_sayi = input(\"İlk sayı\\t:\")\n",
    "ikinci_sayi = input(\"İk,nci sayı\\t:\")\n",
    "\n",
    "try:\n",
    "    sayı1 = int(ilk_sayi)\n",
    "    sayı2 = int(ikinci_sayi)\n",
    "    print(sayı1,\"/\",sayı2,\"=\",sayı1 / sayı2)\n",
    "except ValueEror as hata:\n",
    "    print(hata)"
   ]
  },
  {
   "cell_type": "code",
   "execution_count": null,
   "metadata": {},
   "outputs": [],
   "source": []
  }
 ],
 "metadata": {
  "kernelspec": {
   "display_name": "Python 3",
   "language": "python",
   "name": "python3"
  },
  "language_info": {
   "codemirror_mode": {
    "name": "ipython",
    "version": 3
   },
   "file_extension": ".py",
   "mimetype": "text/x-python",
   "name": "python",
   "nbconvert_exporter": "python",
   "pygments_lexer": "ipython3",
   "version": "3.7.0"
  }
 },
 "nbformat": 4,
 "nbformat_minor": 2
}
