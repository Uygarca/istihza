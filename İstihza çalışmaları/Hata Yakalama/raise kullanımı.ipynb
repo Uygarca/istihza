{
 "cells": [
  {
   "cell_type": "markdown",
   "metadata": {},
   "source": [
    "# raise..."
   ]
  },
  {
   "cell_type": "markdown",
   "metadata": {},
   "source": [
    "Yazılanları tam anlayamadım bir örnek yapalım bakalım ne yapar bu raise"
   ]
  },
  {
   "cell_type": "code",
   "execution_count": 3,
   "metadata": {},
   "outputs": [
    {
     "name": "stdout",
     "output_type": "stream",
     "text": [
      "bölünecek sayı\t:23\n"
     ]
    },
    {
     "ename": "Exception",
     "evalue": "Başka sayı bulamadın bula bula 23'ü mü buldun. Kabul etmiyorum arkadaş.",
     "output_type": "error",
     "traceback": [
      "\u001b[1;31m---------------------------------------------------------------------------\u001b[0m",
      "\u001b[1;31mException\u001b[0m                                 Traceback (most recent call last)",
      "\u001b[1;32m<ipython-input-3-58b2d18014c7>\u001b[0m in \u001b[0;36m<module>\u001b[1;34m()\u001b[0m\n\u001b[0;32m      2\u001b[0m \u001b[1;33m\u001b[0m\u001b[0m\n\u001b[0;32m      3\u001b[0m \u001b[1;32mif\u001b[0m \u001b[0mbölünen\u001b[0m \u001b[1;33m==\u001b[0m \u001b[1;36m23\u001b[0m\u001b[1;33m:\u001b[0m\u001b[1;33m\u001b[0m\u001b[0m\n\u001b[1;32m----> 4\u001b[1;33m     \u001b[1;32mraise\u001b[0m \u001b[0mException\u001b[0m\u001b[1;33m(\u001b[0m\u001b[1;34m\"Başka sayı bulamadın bula bula 23'ü mü buldun. Kabul etmiyorum arkadaş.\"\u001b[0m\u001b[1;33m)\u001b[0m\u001b[1;33m\u001b[0m\u001b[0m\n\u001b[0m\u001b[0;32m      5\u001b[0m \u001b[1;33m\u001b[0m\u001b[0m\n\u001b[0;32m      6\u001b[0m \u001b[0mbölen\u001b[0m \u001b[1;33m=\u001b[0m \u001b[0mint\u001b[0m\u001b[1;33m(\u001b[0m\u001b[0minput\u001b[0m\u001b[1;33m(\u001b[0m\u001b[1;34m\"bölen sayı\\t:\"\u001b[0m\u001b[1;33m)\u001b[0m\u001b[1;33m)\u001b[0m\u001b[1;33m\u001b[0m\u001b[0m\n",
      "\u001b[1;31mException\u001b[0m: Başka sayı bulamadın bula bula 23'ü mü buldun. Kabul etmiyorum arkadaş."
     ]
    }
   ],
   "source": [
    "bölünen = int(input(\"bölünecek sayı\\t:\"))\n",
    "\n",
    "if bölünen == 23:\n",
    "    raise Exception(\"Başka sayı bulamadın bula bula 23'ü mü buldun. Kabul etmiyorum arkadaş.\")\n",
    "    \n",
    "bölen = int(input(\"bölen sayı\\t:\"))\n",
    "print(bölünen / bölen) "
   ]
  },
  {
   "cell_type": "markdown",
   "metadata": {},
   "source": [
    "Anlatılanı anlamamam normalmiş python tarzı bir uyarı yadırmak istediğimizde raise ile herhangi bir hata mesaj türünü birlikte kullanarak istediğimiz mesajı yazdırmış oluruz denmesinin sebebi belli oldu"
   ]
  },
  {
   "cell_type": "markdown",
   "metadata": {},
   "source": [
    "yukarudaki kod 23 harici bir sayı girildiğine sorunsuz çalışıyor."
   ]
  },
  {
   "cell_type": "code",
   "execution_count": 4,
   "metadata": {},
   "outputs": [
    {
     "name": "stdout",
     "output_type": "stream",
     "text": [
      "bölünecek sayı\t:26\n",
      "bölen sayı\t:2\n",
      "13.0\n"
     ]
    }
   ],
   "source": [
    "bölünen = int(input(\"bölünecek sayı\\t:\"))\n",
    "\n",
    "if bölünen == 23:\n",
    "    raise Exception(\"Başka sayı bulamadın bula bula 23'ü mü buldun. Kabul etmiyorum arkadaş.\")\n",
    "    \n",
    "bölen = int(input(\"bölen sayı\\t:\"))\n",
    "print(bölünen / bölen) "
   ]
  },
  {
   "cell_type": "markdown",
   "metadata": {},
   "source": [
    "başka bi hata türü ile deneyelim bakalım ne yapar bu \"raise\" arkadaş"
   ]
  },
  {
   "cell_type": "code",
   "execution_count": 5,
   "metadata": {},
   "outputs": [
    {
     "name": "stdout",
     "output_type": "stream",
     "text": [
      "bölünecek sayı\t:23\n"
     ]
    },
    {
     "ename": "ValueError",
     "evalue": "Başka sayı bulamadın bula bula 23'ü mü buldun. Kabul etmiyorum arkadaş.",
     "output_type": "error",
     "traceback": [
      "\u001b[1;31m---------------------------------------------------------------------------\u001b[0m",
      "\u001b[1;31mValueError\u001b[0m                                Traceback (most recent call last)",
      "\u001b[1;32m<ipython-input-5-b0318b3e9756>\u001b[0m in \u001b[0;36m<module>\u001b[1;34m()\u001b[0m\n\u001b[0;32m      2\u001b[0m \u001b[1;33m\u001b[0m\u001b[0m\n\u001b[0;32m      3\u001b[0m \u001b[1;32mif\u001b[0m \u001b[0mbölünen\u001b[0m \u001b[1;33m==\u001b[0m \u001b[1;36m23\u001b[0m\u001b[1;33m:\u001b[0m\u001b[1;33m\u001b[0m\u001b[0m\n\u001b[1;32m----> 4\u001b[1;33m     \u001b[1;32mraise\u001b[0m \u001b[0mValueError\u001b[0m\u001b[1;33m(\u001b[0m\u001b[1;34m\"Başka sayı bulamadın bula bula 23'ü mü buldun. Kabul etmiyorum arkadaş.\"\u001b[0m\u001b[1;33m)\u001b[0m\u001b[1;33m\u001b[0m\u001b[0m\n\u001b[0m\u001b[0;32m      5\u001b[0m \u001b[1;33m\u001b[0m\u001b[0m\n\u001b[0;32m      6\u001b[0m \u001b[0mbölen\u001b[0m \u001b[1;33m=\u001b[0m \u001b[0mint\u001b[0m\u001b[1;33m(\u001b[0m\u001b[0minput\u001b[0m\u001b[1;33m(\u001b[0m\u001b[1;34m\"bölen sayı\\t:\"\u001b[0m\u001b[1;33m)\u001b[0m\u001b[1;33m)\u001b[0m\u001b[1;33m\u001b[0m\u001b[0m\n",
      "\u001b[1;31mValueError\u001b[0m: Başka sayı bulamadın bula bula 23'ü mü buldun. Kabul etmiyorum arkadaş."
     ]
    }
   ],
   "source": [
    "bölünen = int(input(\"bölünecek sayı\\t:\"))\n",
    "\n",
    "if bölünen == 23:\n",
    "    raise ValueError(\"Başka sayı bulamadın bula bula 23'ü mü buldun. Kabul etmiyorum arkadaş.\")\n",
    "    \n",
    "bölen = int(input(\"bölen sayı\\t:\"))\n",
    "print(bölünen / bölen) "
   ]
  },
  {
   "cell_type": "code",
   "execution_count": 6,
   "metadata": {},
   "outputs": [
    {
     "name": "stdout",
     "output_type": "stream",
     "text": [
      "bölünecek sayı\t:23\n"
     ]
    },
    {
     "ename": "ZeroDivisionError",
     "evalue": "Başka sayı bulamadın bula bula 23'ü mü buldun. Kabul etmiyorum arkadaş.",
     "output_type": "error",
     "traceback": [
      "\u001b[1;31m---------------------------------------------------------------------------\u001b[0m",
      "\u001b[1;31mZeroDivisionError\u001b[0m                         Traceback (most recent call last)",
      "\u001b[1;32m<ipython-input-6-faec1ff56b08>\u001b[0m in \u001b[0;36m<module>\u001b[1;34m()\u001b[0m\n\u001b[0;32m      2\u001b[0m \u001b[1;33m\u001b[0m\u001b[0m\n\u001b[0;32m      3\u001b[0m \u001b[1;32mif\u001b[0m \u001b[0mbölünen\u001b[0m \u001b[1;33m==\u001b[0m \u001b[1;36m23\u001b[0m\u001b[1;33m:\u001b[0m\u001b[1;33m\u001b[0m\u001b[0m\n\u001b[1;32m----> 4\u001b[1;33m     \u001b[1;32mraise\u001b[0m \u001b[0mZeroDivisionError\u001b[0m\u001b[1;33m(\u001b[0m\u001b[1;34m\"Başka sayı bulamadın bula bula 23'ü mü buldun. Kabul etmiyorum arkadaş.\"\u001b[0m\u001b[1;33m)\u001b[0m\u001b[1;33m\u001b[0m\u001b[0m\n\u001b[0m\u001b[0;32m      5\u001b[0m \u001b[1;33m\u001b[0m\u001b[0m\n\u001b[0;32m      6\u001b[0m \u001b[0mbölen\u001b[0m \u001b[1;33m=\u001b[0m \u001b[0mint\u001b[0m\u001b[1;33m(\u001b[0m\u001b[0minput\u001b[0m\u001b[1;33m(\u001b[0m\u001b[1;34m\"bölen sayı\\t:\"\u001b[0m\u001b[1;33m)\u001b[0m\u001b[1;33m)\u001b[0m\u001b[1;33m\u001b[0m\u001b[0m\n",
      "\u001b[1;31mZeroDivisionError\u001b[0m: Başka sayı bulamadın bula bula 23'ü mü buldun. Kabul etmiyorum arkadaş."
     ]
    }
   ],
   "source": [
    "bölünen = int(input(\"bölünecek sayı\\t:\"))\n",
    "\n",
    "if bölünen == 23:\n",
    "    raise ZeroDivisionError(\"Başka sayı bulamadın bula bula 23'ü mü buldun. Kabul etmiyorum arkadaş.\")\n",
    "    \n",
    "bölen = int(input(\"bölen sayı\\t:\"))\n",
    "print(bölünen / bölen) "
   ]
  },
  {
   "cell_type": "markdown",
   "metadata": {},
   "source": [
    "Aslında hangi hata türü olduğu burada önemli değil sonuçta normal bir print çıktısı gibi uyarı yapıp programı brek ile sonlandıra bilirdi ama bu bildiğin python hata modunda hata belirtip programı sonlandırıyor. "
   ]
  },
  {
   "cell_type": "markdown",
   "metadata": {},
   "source": [
    "başka bir örnek ile devam edelim raise anlamaya"
   ]
  },
  {
   "cell_type": "code",
   "execution_count": 7,
   "metadata": {},
   "outputs": [
    {
     "name": "stdout",
     "output_type": "stream",
     "text": [
      "parola giriniz\t:asdcvç\n"
     ]
    },
    {
     "ename": "TypeError",
     "evalue": "Parolanın içinde Türkçe karakter kullanamazsınız.",
     "output_type": "error",
     "traceback": [
      "\u001b[1;31m---------------------------------------------------------------------------\u001b[0m",
      "\u001b[1;31mTypeError\u001b[0m                                 Traceback (most recent call last)",
      "\u001b[1;32m<ipython-input-7-335d18cbd556>\u001b[0m in \u001b[0;36m<module>\u001b[1;34m()\u001b[0m\n\u001b[0;32m      5\u001b[0m \u001b[1;32mfor\u001b[0m \u001b[0mi\u001b[0m \u001b[1;32min\u001b[0m \u001b[0mparola\u001b[0m\u001b[1;33m:\u001b[0m\u001b[1;33m\u001b[0m\u001b[0m\n\u001b[0;32m      6\u001b[0m     \u001b[1;32mif\u001b[0m \u001b[0mi\u001b[0m \u001b[1;32min\u001b[0m \u001b[0mtr_karakter\u001b[0m\u001b[1;33m:\u001b[0m\u001b[1;33m\u001b[0m\u001b[0m\n\u001b[1;32m----> 7\u001b[1;33m         \u001b[1;32mraise\u001b[0m \u001b[0mTypeError\u001b[0m\u001b[1;33m(\u001b[0m\u001b[1;34m\"Parolanın içinde Türkçe karakter kullanamazsınız.\"\u001b[0m\u001b[1;33m)\u001b[0m\u001b[1;33m\u001b[0m\u001b[0m\n\u001b[0m\u001b[0;32m      8\u001b[0m     \u001b[1;32melse\u001b[0m\u001b[1;33m:\u001b[0m\u001b[1;33m\u001b[0m\u001b[0m\n\u001b[0;32m      9\u001b[0m         \u001b[1;32mpass\u001b[0m\u001b[1;33m\u001b[0m\u001b[0m\n",
      "\u001b[1;31mTypeError\u001b[0m: Parolanın içinde Türkçe karakter kullanamazsınız."
     ]
    }
   ],
   "source": [
    "tr_karakter = \"şçiüğıİ\"\n",
    "\n",
    "parola = input(\"parola giriniz\\t:\")\n",
    "\n",
    "for i in parola:\n",
    "    if i in tr_karakter:\n",
    "        raise TypeError(\"Parolanın içinde Türkçe karakter kullanamazsınız.\")\n",
    "    else:\n",
    "        pass\n",
    "\n",
    "print(\"Parolanız kabul edildi\",parola)"
   ]
  },
  {
   "cell_type": "code",
   "execution_count": 8,
   "metadata": {},
   "outputs": [
    {
     "name": "stdout",
     "output_type": "stream",
     "text": [
      "parola giriniz\t:caner\n",
      "Parolanız kabul edildi caner\n"
     ]
    }
   ],
   "source": [
    "tr_karakter = \"şçiüğıİ\"\n",
    "\n",
    "parola = input(\"parola giriniz\\t:\")\n",
    "\n",
    "for i in parola:\n",
    "    if i in tr_karakter:\n",
    "        raise TypeError(\"Parolanın içinde Türkçe karakter kullanamazsınız.\")\n",
    "    else:\n",
    "        pass\n",
    "\n",
    "print(\"Parolanız kabul edildi\",parola)"
   ]
  },
  {
   "cell_type": "markdown",
   "metadata": {},
   "source": [
    "Yukarıda da aynı durum oldu ama gerekliliğini pek anlayamadım neden böyle bir hata mesajı ile sonlandıralım programı. kullanıcı böyle bir çıktı ile karşılaşsa ne olur?."
   ]
  },
  {
   "cell_type": "markdown",
   "metadata": {},
   "source": [
    "bu arada yukarıda if için raise else için pass kullanılmış malum pas görmeden devam et demek oluyor adı üstünde pas geç"
   ]
  },
  {
   "cell_type": "markdown",
   "metadata": {},
   "source": [
    "raise deyimini bir hata mesajının dışında bir işlem yapmak istediğimizdede kullanabilirmişiz. bakalım örnekte çıktı ne olacak"
   ]
  },
  {
   "cell_type": "code",
   "execution_count": 9,
   "metadata": {},
   "outputs": [
    {
     "name": "stdout",
     "output_type": "stream",
     "text": [
      "bölünen\t:14\n",
      "bölen\t:2\n",
      "7.0\n"
     ]
    }
   ],
   "source": [
    "try:\n",
    "    bölünen = int(input(\"bölünen\\t:\"))\n",
    "    bölen = int(input(\"bölen\\t:\"))\n",
    "    print(bölünen / bölen)\n",
    "\n",
    "except ZeroDivisionError:\n",
    "    print(\"0'a bölemezsin\")\n",
    "    raise"
   ]
  },
  {
   "cell_type": "code",
   "execution_count": 12,
   "metadata": {},
   "outputs": [
    {
     "name": "stdout",
     "output_type": "stream",
     "text": [
      "bölünen\t:2\n",
      "bölen\t:0\n",
      "0'a bölemezsin\n"
     ]
    },
    {
     "ename": "ZeroDivisionError",
     "evalue": "division by zero",
     "output_type": "error",
     "traceback": [
      "\u001b[1;31m---------------------------------------------------------------------------\u001b[0m",
      "\u001b[1;31mZeroDivisionError\u001b[0m                         Traceback (most recent call last)",
      "\u001b[1;32m<ipython-input-12-bf7c9c18a067>\u001b[0m in \u001b[0;36m<module>\u001b[1;34m()\u001b[0m\n\u001b[0;32m      2\u001b[0m     \u001b[0mbölünen\u001b[0m \u001b[1;33m=\u001b[0m \u001b[0mint\u001b[0m\u001b[1;33m(\u001b[0m\u001b[0minput\u001b[0m\u001b[1;33m(\u001b[0m\u001b[1;34m\"bölünen\\t:\"\u001b[0m\u001b[1;33m)\u001b[0m\u001b[1;33m)\u001b[0m\u001b[1;33m\u001b[0m\u001b[0m\n\u001b[0;32m      3\u001b[0m     \u001b[0mbölen\u001b[0m \u001b[1;33m=\u001b[0m \u001b[0mint\u001b[0m\u001b[1;33m(\u001b[0m\u001b[0minput\u001b[0m\u001b[1;33m(\u001b[0m\u001b[1;34m\"bölen\\t:\"\u001b[0m\u001b[1;33m)\u001b[0m\u001b[1;33m)\u001b[0m\u001b[1;33m\u001b[0m\u001b[0m\n\u001b[1;32m----> 4\u001b[1;33m     \u001b[0mprint\u001b[0m\u001b[1;33m(\u001b[0m\u001b[0mbölünen\u001b[0m \u001b[1;33m/\u001b[0m \u001b[0mbölen\u001b[0m\u001b[1;33m)\u001b[0m\u001b[1;33m\u001b[0m\u001b[0m\n\u001b[0m\u001b[0;32m      5\u001b[0m \u001b[1;33m\u001b[0m\u001b[0m\n\u001b[0;32m      6\u001b[0m \u001b[1;32mexcept\u001b[0m \u001b[0mZeroDivisionError\u001b[0m\u001b[1;33m:\u001b[0m\u001b[1;33m\u001b[0m\u001b[0m\n",
      "\u001b[1;31mZeroDivisionError\u001b[0m: division by zero"
     ]
    }
   ],
   "source": [
    "try:\n",
    "    bölünen = int(input(\"bölünen\\t:\"))\n",
    "    bölen = int(input(\"bölen\\t:\"))\n",
    "    print(bölünen / bölen)\n",
    "\n",
    "except ZeroDivisionError:\n",
    "    print(\"0'a bölemezsin\")\n",
    "    raise"
   ]
  },
  {
   "cell_type": "markdown",
   "metadata": {},
   "source": [
    "Yukarıdaki kullanımda o'a bölümde hem mesajı paylaştı hemde orjinal hata kodunu yazdırdı bunun neden \"raise\" deyimi sağladı ama zaten böle bir şeyi \"try except as\" ile yapıyor olmalız deneyelim"
   ]
  },
  {
   "cell_type": "code",
   "execution_count": 13,
   "metadata": {},
   "outputs": [
    {
     "name": "stdout",
     "output_type": "stream",
     "text": [
      "bölünen\t:2\n",
      "bölen\t:0\n",
      "0'a bölemezsin\n",
      "division by zero\n"
     ]
    }
   ],
   "source": [
    "try:\n",
    "    bölünen = int(input(\"bölünen\\t:\"))\n",
    "    bölen = int(input(\"bölen\\t:\"))\n",
    "    print(bölünen / bölen)\n",
    "\n",
    "except ZeroDivisionError as hata:\n",
    "    print(\"0'a bölemezsin\")\n",
    "    print(hata)"
   ]
  },
  {
   "cell_type": "markdown",
   "metadata": {},
   "source": [
    "Yukarıda söylediğim olmuyormuş try except as deyimi sadece orjinal hata kodunu normal şekilde yazdrıyor. pythondaki hata kodu çıktısı vermiyor. ne işe yarar anlamadım ama bir kullanım belki olur gözücez."
   ]
  },
  {
   "cell_type": "code",
   "execution_count": null,
   "metadata": {},
   "outputs": [],
   "source": []
  }
 ],
 "metadata": {
  "kernelspec": {
   "display_name": "Python 3",
   "language": "python",
   "name": "python3"
  },
  "language_info": {
   "codemirror_mode": {
    "name": "ipython",
    "version": 3
   },
   "file_extension": ".py",
   "mimetype": "text/x-python",
   "name": "python",
   "nbconvert_exporter": "python",
   "pygments_lexer": "ipython3",
   "version": "3.7.0"
  }
 },
 "nbformat": 4,
 "nbformat_minor": 2
}
