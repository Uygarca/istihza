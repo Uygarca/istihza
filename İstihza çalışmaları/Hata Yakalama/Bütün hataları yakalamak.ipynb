{
 "cells": [
  {
   "cell_type": "markdown",
   "metadata": {},
   "source": [
    "# Bütün hataları yakalamak"
   ]
  },
  {
   "cell_type": "markdown",
   "metadata": {},
   "source": [
    "try except yalın olarak kullanıldığında hatanın türü ne olursa olsun hepsini yakalayacak ama hatanın türü bir muamma olacak kullanımı. önerilmiyor çünkü hatanın türü belli olmaz ise nasıl giderilecek hata"
   ]
  },
  {
   "cell_type": "markdown",
   "metadata": {},
   "source": [
    "örneğimize bakalım"
   ]
  },
  {
   "cell_type": "code",
   "execution_count": 1,
   "metadata": {},
   "outputs": [
    {
     "name": "stdout",
     "output_type": "stream",
     "text": [
      "bölünen\t:ff\n",
      "hata var ama ne gelde bul hadi\n"
     ]
    }
   ],
   "source": [
    "try:\n",
    "    bölünen = int(input(\"bölünen\\t:\"))\n",
    "    bölen = int(input(\"bölen\\t:\"))\n",
    "    print(bölünen / bölen)\n",
    "except:\n",
    "    print(\"hata var ama ne gelde bul hadi\")"
   ]
  },
  {
   "cell_type": "code",
   "execution_count": 2,
   "metadata": {},
   "outputs": [
    {
     "name": "stdout",
     "output_type": "stream",
     "text": [
      "bölünen\t:14\n",
      "bölen\t:0\n",
      "hata var ama ne gelde bul hadi\n"
     ]
    }
   ],
   "source": [
    "try:\n",
    "    bölünen = int(input(\"bölünen\\t:\"))\n",
    "    bölen = int(input(\"bölen\\t:\"))\n",
    "    print(bölünen / bölen)\n",
    "except:\n",
    "    print(\"hata var ama ne gelde bul hadi\")"
   ]
  },
  {
   "cell_type": "markdown",
   "metadata": {},
   "source": [
    "Yukarıda iki hata yaptık ama sadece hata var mesajı ile karşılaştık. Hatanın ne olduğu belirsiz."
   ]
  },
  {
   "cell_type": "code",
   "execution_count": 3,
   "metadata": {},
   "outputs": [
    {
     "ename": "SyntaxError",
     "evalue": "invalid syntax (<ipython-input-3-47c4e8c81f0e>, line 5)",
     "output_type": "error",
     "traceback": [
      "\u001b[1;36m  File \u001b[1;32m\"<ipython-input-3-47c4e8c81f0e>\"\u001b[1;36m, line \u001b[1;32m5\u001b[0m\n\u001b[1;33m    except as hata:\u001b[0m\n\u001b[1;37m            ^\u001b[0m\n\u001b[1;31mSyntaxError\u001b[0m\u001b[1;31m:\u001b[0m invalid syntax\n"
     ]
    }
   ],
   "source": [
    "try:\n",
    "    bölünen = int(input(\"bölünen\\t:\"))\n",
    "    bölen = int(input(\"bölen\\t:\"))\n",
    "    print(bölünen / bölen)\n",
    "except as hata:\n",
    "    print(\"hata var ama ne gelde bul hadi\")\n",
    "    print(hata)"
   ]
  },
  {
   "cell_type": "markdown",
   "metadata": {},
   "source": [
    "belki bu şekilde hatanın ne olduğunu anlayacak bir kurnazlık yaparım dedim ama olmadı"
   ]
  },
  {
   "cell_type": "markdown",
   "metadata": {},
   "source": [
    "Ama yine de faydalı bir kullanımı var bir kaç muhtemel hatayı belirtip ondan sonra kullanırsak daha faydalı olur."
   ]
  },
  {
   "cell_type": "code",
   "execution_count": 6,
   "metadata": {},
   "outputs": [
    {
     "name": "stdout",
     "output_type": "stream",
     "text": [
      "bölünen\t:14\n",
      "bölen\t:0\n",
      "0'a bölemezsin\n"
     ]
    }
   ],
   "source": [
    "try:\n",
    "    bölünen = int(input(\"bölünen\\t:\"))\n",
    "    bölen = int(input(\"bölen\\t:\"))\n",
    "    print(bölünen / bölen)\n",
    "except ZeroDivisionError:\n",
    "    print(\"0'a bölemezsin\")\n",
    "except:\n",
    "    print(\"Bilinmeyen bir hata oluştu\")"
   ]
  },
  {
   "cell_type": "code",
   "execution_count": 7,
   "metadata": {},
   "outputs": [
    {
     "name": "stdout",
     "output_type": "stream",
     "text": [
      "bölünen\t:14\n",
      "bölen\t:ff\n",
      "Bilinmeyen bir hata oluştu\n"
     ]
    }
   ],
   "source": [
    "try:\n",
    "    bölünen = int(input(\"bölünen\\t:\"))\n",
    "    bölen = int(input(\"bölen\\t:\"))\n",
    "    print(bölünen / bölen)\n",
    "except ZeroDivisionError:\n",
    "    print(\"0'a bölemezsin\")\n",
    "except:\n",
    "    print(\"Bilinmeyen bir hata oluştu\")"
   ]
  },
  {
   "cell_type": "markdown",
   "metadata": {},
   "source": [
    "bazı hata türerini yakaladıktan sonra tüm hatalardan bir denetime sokarak hatasız çıktı alına bilir. bu şekile program çökmeden uyarıdsa bulunup çalışmaya devam eder"
   ]
  },
  {
   "cell_type": "markdown",
   "metadata": {},
   "source": [
    "aklıma raise ile kullanımı geldi belki faydalı olur. ama rase gerek varmı 2 deneme yapıcam"
   ]
  },
  {
   "cell_type": "code",
   "execution_count": 8,
   "metadata": {},
   "outputs": [
    {
     "name": "stdout",
     "output_type": "stream",
     "text": [
      "bölünen\t:14\n",
      "bölen\t:ff\n",
      "Bilinmeyen bir hata oluştu\n"
     ]
    },
    {
     "ename": "ValueError",
     "evalue": "invalid literal for int() with base 10: 'ff'",
     "output_type": "error",
     "traceback": [
      "\u001b[1;31m---------------------------------------------------------------------------\u001b[0m",
      "\u001b[1;31mValueError\u001b[0m                                Traceback (most recent call last)",
      "\u001b[1;32m<ipython-input-8-195e2bb1db4c>\u001b[0m in \u001b[0;36m<module>\u001b[1;34m()\u001b[0m\n\u001b[0;32m      1\u001b[0m \u001b[1;32mtry\u001b[0m\u001b[1;33m:\u001b[0m\u001b[1;33m\u001b[0m\u001b[0m\n\u001b[0;32m      2\u001b[0m     \u001b[0mbölünen\u001b[0m \u001b[1;33m=\u001b[0m \u001b[0mint\u001b[0m\u001b[1;33m(\u001b[0m\u001b[0minput\u001b[0m\u001b[1;33m(\u001b[0m\u001b[1;34m\"bölünen\\t:\"\u001b[0m\u001b[1;33m)\u001b[0m\u001b[1;33m)\u001b[0m\u001b[1;33m\u001b[0m\u001b[0m\n\u001b[1;32m----> 3\u001b[1;33m     \u001b[0mbölen\u001b[0m \u001b[1;33m=\u001b[0m \u001b[0mint\u001b[0m\u001b[1;33m(\u001b[0m\u001b[0minput\u001b[0m\u001b[1;33m(\u001b[0m\u001b[1;34m\"bölen\\t:\"\u001b[0m\u001b[1;33m)\u001b[0m\u001b[1;33m)\u001b[0m\u001b[1;33m\u001b[0m\u001b[0m\n\u001b[0m\u001b[0;32m      4\u001b[0m     \u001b[0mprint\u001b[0m\u001b[1;33m(\u001b[0m\u001b[0mbölünen\u001b[0m \u001b[1;33m/\u001b[0m \u001b[0mbölen\u001b[0m\u001b[1;33m)\u001b[0m\u001b[1;33m\u001b[0m\u001b[0m\n\u001b[0;32m      5\u001b[0m \u001b[1;32mexcept\u001b[0m \u001b[0mZeroDivisionError\u001b[0m\u001b[1;33m:\u001b[0m\u001b[1;33m\u001b[0m\u001b[0m\n",
      "\u001b[1;31mValueError\u001b[0m: invalid literal for int() with base 10: 'ff'"
     ]
    }
   ],
   "source": [
    "try:\n",
    "    bölünen = int(input(\"bölünen\\t:\"))\n",
    "    bölen = int(input(\"bölen\\t:\"))\n",
    "    print(bölünen / bölen)\n",
    "except ZeroDivisionError:\n",
    "    print(\"0'a bölemezsin\")\n",
    "except:\n",
    "    print(\"Bilinmeyen bir hata oluştu\")\n",
    "    raise"
   ]
  },
  {
   "cell_type": "markdown",
   "metadata": {},
   "source": [
    "raise deyimi ile kullanınca genel hatayı belirtti"
   ]
  },
  {
   "cell_type": "code",
   "execution_count": 9,
   "metadata": {},
   "outputs": [
    {
     "name": "stdout",
     "output_type": "stream",
     "text": [
      "bölünen\t:14\n",
      "bölen\t:ff\n"
     ]
    },
    {
     "ename": "ValueError",
     "evalue": "invalid literal for int() with base 10: 'ff'",
     "output_type": "error",
     "traceback": [
      "\u001b[1;31m---------------------------------------------------------------------------\u001b[0m",
      "\u001b[1;31mValueError\u001b[0m                                Traceback (most recent call last)",
      "\u001b[1;32m<ipython-input-9-dacbc87bf805>\u001b[0m in \u001b[0;36m<module>\u001b[1;34m()\u001b[0m\n\u001b[0;32m      1\u001b[0m \u001b[1;32mtry\u001b[0m\u001b[1;33m:\u001b[0m\u001b[1;33m\u001b[0m\u001b[0m\n\u001b[0;32m      2\u001b[0m     \u001b[0mbölünen\u001b[0m \u001b[1;33m=\u001b[0m \u001b[0mint\u001b[0m\u001b[1;33m(\u001b[0m\u001b[0minput\u001b[0m\u001b[1;33m(\u001b[0m\u001b[1;34m\"bölünen\\t:\"\u001b[0m\u001b[1;33m)\u001b[0m\u001b[1;33m)\u001b[0m\u001b[1;33m\u001b[0m\u001b[0m\n\u001b[1;32m----> 3\u001b[1;33m     \u001b[0mbölen\u001b[0m \u001b[1;33m=\u001b[0m \u001b[0mint\u001b[0m\u001b[1;33m(\u001b[0m\u001b[0minput\u001b[0m\u001b[1;33m(\u001b[0m\u001b[1;34m\"bölen\\t:\"\u001b[0m\u001b[1;33m)\u001b[0m\u001b[1;33m)\u001b[0m\u001b[1;33m\u001b[0m\u001b[0m\n\u001b[0m\u001b[0;32m      4\u001b[0m     \u001b[0mprint\u001b[0m\u001b[1;33m(\u001b[0m\u001b[0mbölünen\u001b[0m \u001b[1;33m/\u001b[0m \u001b[0mbölen\u001b[0m\u001b[1;33m)\u001b[0m\u001b[1;33m\u001b[0m\u001b[0m\n\u001b[0;32m      5\u001b[0m \u001b[1;32mexcept\u001b[0m \u001b[0mZeroDivisionError\u001b[0m\u001b[1;33m:\u001b[0m\u001b[1;33m\u001b[0m\u001b[0m\n",
      "\u001b[1;31mValueError\u001b[0m: invalid literal for int() with base 10: 'ff'"
     ]
    }
   ],
   "source": [
    "try:\n",
    "    bölünen = int(input(\"bölünen\\t:\"))\n",
    "    bölen = int(input(\"bölen\\t:\"))\n",
    "    print(bölünen / bölen)\n",
    "except ZeroDivisionError:\n",
    "    print(\"0'a bölemezsin\")"
   ]
  },
  {
   "cell_type": "markdown",
   "metadata": {},
   "source": [
    "raise deyimine gerek yok. zaten amaç normal çıktı şeklinde hatayı yakalayıp uyarıda bulunmak yoksa belirtilmeyen hatalar zaten python hata çıktısı şeklinde oluyor"
   ]
  },
  {
   "cell_type": "code",
   "execution_count": null,
   "metadata": {},
   "outputs": [],
   "source": []
  }
 ],
 "metadata": {
  "kernelspec": {
   "display_name": "Python 3",
   "language": "python",
   "name": "python3"
  },
  "language_info": {
   "codemirror_mode": {
    "name": "ipython",
    "version": 3
   },
   "file_extension": ".py",
   "mimetype": "text/x-python",
   "name": "python",
   "nbconvert_exporter": "python",
   "pygments_lexer": "ipython3",
   "version": "3.7.0"
  }
 },
 "nbformat": 4,
 "nbformat_minor": 2
}
