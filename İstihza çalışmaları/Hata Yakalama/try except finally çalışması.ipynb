{
 "cells": [
  {
   "cell_type": "markdown",
   "metadata": {},
   "source": [
    "# try... except... finally..."
   ]
  },
  {
   "cell_type": "markdown",
   "metadata": {},
   "source": [
    " burda finally kısmı try except kısmına ek olarak her koşulda çalışacak bir bloktur. hata olsada olmasada. mutlaka çalışır"
   ]
  },
  {
   "cell_type": "raw",
   "metadata": {},
   "source": [
    "try:\n",
    "    bir takım işler hesaplar...\n",
    "except filanca hata:\n",
    "    hata alınınca yapılacak işler...\n",
    "finally:\n",
    "    hata olsada hata olmasada yapılması gerekenler.."
   ]
  },
  {
   "cell_type": "markdown",
   "metadata": {},
   "source": [
    "finally bloğu dosya işlemlerinde işe yarıyabilir bir yapı.\n"
   ]
  },
  {
   "cell_type": "raw",
   "metadata": {},
   "source": [
    "try:\n",
    "    dosya = open(\"dosya_adı.txt\",\"r\")\n",
    "    ... burada dosya ile bazı işlemler yapıyoruz...\n",
    "    ... ve ansızın bir hata oluşuyor...\n",
    "    \n",
    "except IOEror:\n",
    "    print(\"bir hata mesajı\")\n",
    "\n",
    "finally:\n",
    "    dosya.close()"
   ]
  },
  {
   "cell_type": "markdown",
   "metadata": {},
   "source": [
    "Dosya işlemlerinde dosya üzerinde çalışıldıktan sonra dosyanın mutlaka kapanması gerekir. ama bir hata oluşması durumunda dosyayı kapatacak blok çalışmaya bilir bu durumda dosya kapanamaz. finally bloğu bu durum için her koşulda bir hata oluşmasada oluşsada dosyayı kapatacaktır. dosyalar konusunda kullanımı oldukça faydalı"
   ]
  },
  {
   "cell_type": "code",
   "execution_count": null,
   "metadata": {},
   "outputs": [],
   "source": []
  }
 ],
 "metadata": {
  "kernelspec": {
   "display_name": "Python 3",
   "language": "python",
   "name": "python3"
  },
  "language_info": {
   "codemirror_mode": {
    "name": "ipython",
    "version": 3
   },
   "file_extension": ".py",
   "mimetype": "text/x-python",
   "name": "python",
   "nbconvert_exporter": "python",
   "pygments_lexer": "ipython3",
   "version": "3.7.0"
  }
 },
 "nbformat": 4,
 "nbformat_minor": 2
}
