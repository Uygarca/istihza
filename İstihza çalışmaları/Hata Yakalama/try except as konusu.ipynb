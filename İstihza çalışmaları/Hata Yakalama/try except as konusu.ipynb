{
 "cells": [
  {
   "cell_type": "markdown",
   "metadata": {},
   "source": [
    "## try... except... as..."
   ]
  },
  {
   "cell_type": "markdown",
   "metadata": {},
   "source": [
    "Önce bir örnek yapalım"
   ]
  },
  {
   "cell_type": "code",
   "execution_count": 10,
   "metadata": {},
   "outputs": [
    {
     "name": "stdout",
     "output_type": "stream",
     "text": [
      "ilk sayı\t:ff\n",
      "ikinci sayı\t:0\n",
      "invalid literal for int() with base 10: 'ff'\n"
     ]
    }
   ],
   "source": [
    "ilk_sayi = input(\"ilk sayı\\t:\")\n",
    "ikinci_sayi = input(\"ikinci sayı\\t:\")\n",
    "\n",
    "try:\n",
    "    sayı1 = int(ilk_sayi)\n",
    "    sayı2 = int(ikinci_sayi)\n",
    "    print(sayı1,\"/\",sayı2,\"=\",sayı1 / sayı2)\n",
    "except ValueError as hata:\n",
    "    print(hata)"
   ]
  },
  {
   "cell_type": "markdown",
   "metadata": {},
   "source": [
    "yukarıdaki örnekte ValueEror hatasının örjinal içeriğini hata adlı değişkene atayıp hatanın gerçekşelmesi durumunda ekrana yazdırdık"
   ]
  },
  {
   "cell_type": "markdown",
   "metadata": {},
   "source": [
    "try axcept as yapısının asıl işlevi orjinal hata mesajı ile kendi uyarı mesajımızı birlikte yayınlamamızı sağlar. yukarıdaki örnekte sadece orjinal hata mesajını yayınladık. bir sonraki örnekte her iki mesajı da yayınlayacağız"
   ]
  },
  {
   "cell_type": "code",
   "execution_count": 2,
   "metadata": {},
   "outputs": [
    {
     "name": "stdout",
     "output_type": "stream",
     "text": [
      "ilk sayı\t:14\n",
      "ikinci sayı\t:asd\n",
      "sadece sayı giriniz\n",
      "invalid literal for int() with base 10: 'asd'\n"
     ]
    }
   ],
   "source": [
    "ilk_sayı = input(\"ilk sayı\\t:\")\n",
    "ikinci_sayı = input(\"ikinci sayı\\t:\")\n",
    "\n",
    "try:\n",
    "    sayı1 = int(ilk_sayı)\n",
    "    sayı2 = int(ikinci_sayı)\n",
    "    print(sayı1,\"/\",sayı2,\"=\",sayı1 / sayı2)\n",
    "    \n",
    "except ValueError as hata:\n",
    "    print(\"sadece sayı giriniz\")\n",
    "    print(hata)"
   ]
  },
  {
   "cell_type": "markdown",
   "metadata": {},
   "source": [
    "Yukarıda kendi mesajımızı ve orjinal hata mesajını birlikte yayınladık. alttaki örnekte ise birden çok hatayı birlikte kontrol edip kendi mesajımız ve orjinal mesajı yayınlayacağım.(bu orjinal mesaj bence programcının kendisi için faydalı olabilir ama son kullanıcı için bir sorun)"
   ]
  },
  {
   "cell_type": "code",
   "execution_count": 4,
   "metadata": {},
   "outputs": [
    {
     "name": "stdout",
     "output_type": "stream",
     "text": [
      "1. sayı\t:14\n",
      "2. sayı\t:ff\n",
      "Hatalı giriş yaptınız\n",
      "invalid literal for int() with base 10: 'ff'\n"
     ]
    }
   ],
   "source": [
    "ilk_sayı = input(\"1. sayı\\t:\")\n",
    "ikinci_sayı = input(\"2. sayı\\t:\")\n",
    "\n",
    "try:\n",
    "    sayı1 = int(ilk_sayı)\n",
    "    sayı2 = int(ikinci_sayı)\n",
    "    print(sayı1,\"/\",sayı2,\"=\",sayı1 / sayı2)\n",
    "\n",
    "except (ValueError,ZeroDivisionError) as hata:\n",
    "    print(\"Hatalı giriş yaptınız\")\n",
    "    print(hata)"
   ]
  },
  {
   "cell_type": "code",
   "execution_count": 5,
   "metadata": {},
   "outputs": [
    {
     "name": "stdout",
     "output_type": "stream",
     "text": [
      "1. sayı\t:14\n",
      "2. sayı\t:0\n",
      "Hatalı giriş yaptınız\n",
      "division by zero\n"
     ]
    }
   ],
   "source": [
    "ilk_sayı = input(\"1. sayı\\t:\")\n",
    "ikinci_sayı = input(\"2. sayı\\t:\")\n",
    "\n",
    "try:\n",
    "    sayı1 = int(ilk_sayı)\n",
    "    sayı2 = int(ikinci_sayı)\n",
    "    print(sayı1,\"/\",sayı2,\"=\",sayı1 / sayı2)\n",
    "\n",
    "except (ValueError,ZeroDivisionError) as hata:\n",
    "    print(\"Hatalı giriş yaptınız\")\n",
    "    print(hata)"
   ]
  },
  {
   "cell_type": "markdown",
   "metadata": {},
   "source": [
    "Yukarıda birlieşik olarak kullanılan hata mesajı kendi mesajımızı ve orjinal hata mesajını veriyor. asıl durum hata durumunda kendi mesajımız herzaman  yayınlanırken oluşan hataya ait orjinal mesajda birlikte kullanılıyor bu durumda kullanıcı hatanın nereden kaynaklandığını anlayabiliyor"
   ]
  },
  {
   "cell_type": "markdown",
   "metadata": {},
   "source": [
    "# as hakkında ne kadar arama yaptıysam sonuç çıkmadı ama. yukarıdaki örneklerde \"except falancahata as filanca\" yapısını kullanarak falancahata filanca olarak isimlendiriyor yani as kullanımı ismi değiştiriyor sanki değişkene atarmış gibi ama değişken olayı yok sadece ismi değiştiriyor"
   ]
  },
  {
   "cell_type": "markdown",
   "metadata": {},
   "source": [
    "yukarıdaki çalışmalarda merak ettiğim bir şey var değişkenler değer alırken ayrı değer int'e çevrilirken ayrı işelm yapılıyor acaba bir seferde direkt try altında yapılamazmı?"
   ]
  },
  {
   "cell_type": "code",
   "execution_count": 6,
   "metadata": {},
   "outputs": [
    {
     "name": "stdout",
     "output_type": "stream",
     "text": [
      "ilk sayı\t:ff\n",
      "Hatalı giriş yaptınız\n",
      "invalid literal for int() with base 10: 'ff'\n"
     ]
    }
   ],
   "source": [
    "try:\n",
    "    sayı1 = int(input(\"ilk sayı\\t:\"))\n",
    "    sayı2 = int(input(\"ikinci sayı\\t:\"))\n",
    "    print(sayı1,\"/\",sayı2,\"=\",sayı1 / sayı2)\n",
    "except (ValueError,ZeroDivisionError) as hata:\n",
    "    print(\"Hatalı giriş yaptınız\")\n",
    "    print(hata)"
   ]
  },
  {
   "cell_type": "code",
   "execution_count": 7,
   "metadata": {},
   "outputs": [
    {
     "name": "stdout",
     "output_type": "stream",
     "text": [
      "ilk sayı\t:14\n",
      "ikinci sayı\t:as\n",
      "Hatalı giriş yaptınız\n",
      "invalid literal for int() with base 10: 'as'\n"
     ]
    }
   ],
   "source": [
    "try:\n",
    "    sayı1 = int(input(\"ilk sayı\\t:\"))\n",
    "    sayı2 = int(input(\"ikinci sayı\\t:\"))\n",
    "    print(sayı1,\"/\",sayı2,\"=\",sayı1 / sayı2)\n",
    "except (ValueError,ZeroDivisionError) as hata:\n",
    "    print(\"Hatalı giriş yaptınız\")\n",
    "    print(hata)"
   ]
  },
  {
   "cell_type": "code",
   "execution_count": 8,
   "metadata": {},
   "outputs": [
    {
     "name": "stdout",
     "output_type": "stream",
     "text": [
      "ilk sayı\t:14\n",
      "ikinci sayı\t:0\n",
      "Hatalı giriş yaptınız\n",
      "division by zero\n"
     ]
    }
   ],
   "source": [
    "try:\n",
    "    sayı1 = int(input(\"ilk sayı\\t:\"))\n",
    "    sayı2 = int(input(\"ikinci sayı\\t:\"))\n",
    "    print(sayı1,\"/\",sayı2,\"=\",sayı1 / sayı2)\n",
    "except (ValueError,ZeroDivisionError) as hata:\n",
    "    print(\"Hatalı giriş yaptınız\")\n",
    "    print(hata)"
   ]
  },
  {
   "cell_type": "markdown",
   "metadata": {},
   "source": [
    "evet denemelerimizi yaptık yukarıdaki şekilde oluyor bana göre asıl kullanışlı olan bu hafızada gereksiz kullanımı engeller."
   ]
  },
  {
   "cell_type": "markdown",
   "metadata": {},
   "source": [
    "aradaki fark son yapılan programda değişkenen değer girergirmez hata kontrolü yapmış oluyor. ilk yapılan örneklerde girişlerin hepsi yapıldıktan sonra hata ontrol ediliyor."
   ]
  },
  {
   "cell_type": "code",
   "execution_count": null,
   "metadata": {},
   "outputs": [],
   "source": []
  }
 ],
 "metadata": {
  "kernelspec": {
   "display_name": "Python 3",
   "language": "python",
   "name": "python3"
  },
  "language_info": {
   "codemirror_mode": {
    "name": "ipython",
    "version": 3
   },
   "file_extension": ".py",
   "mimetype": "text/x-python",
   "name": "python",
   "nbconvert_exporter": "python",
   "pygments_lexer": "ipython3",
   "version": "3.7.0"
  }
 },
 "nbformat": 4,
 "nbformat_minor": 2
}
