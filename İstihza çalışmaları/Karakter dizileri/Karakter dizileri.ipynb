{
 "cells": [
  {
   "cell_type": "markdown",
   "metadata": {},
   "source": [
    "## Karakter dizileri"
   ]
  },
  {
   "cell_type": "markdown",
   "metadata": {},
   "source": [
    "Karakter dizilerinde başlangıç kısmıı es geçiyorum daha önce udemy kursları ile biraz öğrenmiştim. önemli gördüğüm yerleri işleyeceğim"
   ]
  },
  {
   "cell_type": "markdown",
   "metadata": {},
   "source": [
    "## Karakter dizilerini ters çevirmek"
   ]
  },
  {
   "cell_type": "markdown",
   "metadata": {},
   "source": [
    "Karakter dizilerini ter çevirmek için en basit yol en son parametreyi -1 yapmak"
   ]
  },
  {
   "cell_type": "code",
   "execution_count": 1,
   "metadata": {},
   "outputs": [
    {
     "data": {
      "text/plain": [
       "'caner'"
      ]
     },
     "execution_count": 1,
     "metadata": {},
     "output_type": "execute_result"
    }
   ],
   "source": [
    "isim = \"renac\"\n",
    "isim[::-1]"
   ]
  },
  {
   "cell_type": "markdown",
   "metadata": {},
   "source": [
    "### reversed foksiyonu (ters çevirme)"
   ]
  },
  {
   "cell_type": "markdown",
   "metadata": {},
   "source": [
    "reversed () adlı bir fonksiyon var buda verilen karakterleri ters çeviriyor"
   ]
  },
  {
   "cell_type": "code",
   "execution_count": 3,
   "metadata": {},
   "outputs": [
    {
     "data": {
      "text/plain": [
       "<reversed at 0x2800e4a8390>"
      ]
     },
     "execution_count": 3,
     "metadata": {},
     "output_type": "execute_result"
    }
   ],
   "source": [
    "reversed(\"Ben sana gül bahçesi vadetmedim!\")"
   ]
  },
  {
   "cell_type": "code",
   "execution_count": 6,
   "metadata": {},
   "outputs": [
    {
     "name": "stdout",
     "output_type": "stream",
     "text": [
      "! m i d e m t e d a v   i s e ç h a b   l ü g   a n a s   n e B "
     ]
    }
   ],
   "source": [
    "for i in reversed (\"Ben sana gül bahçesi vadetmedim!\"):\n",
    "    print(i,end=\" \")"
   ]
  },
  {
   "cell_type": "markdown",
   "metadata": {},
   "source": [
    "reversed fonksiyonuda karakter dizisini ter çeviren bir program aşağıdaki gibide kullanılabilir"
   ]
  },
  {
   "cell_type": "code",
   "execution_count": 7,
   "metadata": {},
   "outputs": [
    {
     "name": "stdout",
     "output_type": "stream",
     "text": [
      "! m i d e m t e d a v   i s e ç h a b   l ü g   a n a s   n e B\n"
     ]
    }
   ],
   "source": [
    "print(*reversed(\"Ben sana gül bahçesi vadetmedim!\"))"
   ]
  },
  {
   "cell_type": "code",
   "execution_count": 10,
   "metadata": {},
   "outputs": [
    {
     "name": "stdout",
     "output_type": "stream",
     "text": [
      "!midemtedav iseçhab lüg anas neB\n"
     ]
    }
   ],
   "source": [
    "print(*reversed(\"Ben sana gül bahçesi vadetmedim!\"),sep = \"\")"
   ]
  },
  {
   "cell_type": "markdown",
   "metadata": {},
   "source": [
    "### Karakter dizilerini alfabetik sıraya dizmek"
   ]
  },
  {
   "cell_type": "markdown",
   "metadata": {},
   "source": [
    "### sorted () fonksiyonu (alfabetik sıralama)"
   ]
  },
  {
   "cell_type": "markdown",
   "metadata": {},
   "source": [
    "sorted adlı fonksiyon karakter dizilerini alfabetik sıraya dizer ama burada türkçe ile ilgili bir sorun var bunun için bazı ayarlamalar gerekli"
   ]
  },
  {
   "cell_type": "code",
   "execution_count": 12,
   "metadata": {},
   "outputs": [
    {
     "data": {
      "text/plain": [
       "['a', 'i', 'k', 'p', 't']"
      ]
     },
     "execution_count": 12,
     "metadata": {},
     "output_type": "execute_result"
    }
   ],
   "source": [
    "sorted (\"kitap\")"
   ]
  },
  {
   "cell_type": "markdown",
   "metadata": {},
   "source": [
    "buraya kadar bir sorun yok türkçe karakterler ile bir deneme yapalım bundan önce sortedi kullanımı ile ilgili kullanım şeklilleri ile ilgili örnekler yapalım"
   ]
  },
  {
   "cell_type": "code",
   "execution_count": 14,
   "metadata": {},
   "outputs": [
    {
     "name": "stdout",
     "output_type": "stream",
     "text": [
      "a i k p t "
     ]
    }
   ],
   "source": [
    "for i in sorted(\"kitap\"):\n",
    "    print(i,end=\" \")"
   ]
  },
  {
   "cell_type": "code",
   "execution_count": 16,
   "metadata": {},
   "outputs": [
    {
     "name": "stdout",
     "output_type": "stream",
     "text": [
      "a i k p t\n"
     ]
    }
   ],
   "source": [
    "print(*sorted(\"kitap\"))"
   ]
  },
  {
   "cell_type": "markdown",
   "metadata": {},
   "source": [
    "yukarıdaki şekillerdede sorted kullanılabilir."
   ]
  },
  {
   "cell_type": "code",
   "execution_count": 17,
   "metadata": {},
   "outputs": [
    {
     "data": {
      "text/plain": [
       "['e', 'i', 'k', 'ç', 'ç']"
      ]
     },
     "execution_count": 17,
     "metadata": {},
     "output_type": "execute_result"
    }
   ],
   "source": [
    "sorted(\"çiçek\")"
   ]
  },
  {
   "cell_type": "markdown",
   "metadata": {},
   "source": [
    "Yukarıdaki örnekte türkçe karakterler sıralamanın dışında tutuluyor. düzeltmek için bazı ayarlar yapmak lazım"
   ]
  },
  {
   "cell_type": "code",
   "execution_count": 18,
   "metadata": {},
   "outputs": [],
   "source": [
    "import locale"
   ]
  },
  {
   "cell_type": "code",
   "execution_count": 19,
   "metadata": {},
   "outputs": [
    {
     "data": {
      "text/plain": [
       "'Turkish_Turkey.1254'"
      ]
     },
     "execution_count": 19,
     "metadata": {},
     "output_type": "execute_result"
    }
   ],
   "source": [
    "locale.setlocale(locale.LC_ALL, \"Turkish_Turkey.1254\")"
   ]
  },
  {
   "cell_type": "code",
   "execution_count": 20,
   "metadata": {},
   "outputs": [
    {
     "data": {
      "text/plain": [
       "['c', 'e', 'i', 'i', 'k', 'ç', 'ç']"
      ]
     },
     "execution_count": 20,
     "metadata": {},
     "output_type": "execute_result"
    }
   ],
   "source": [
    "sorted(\"çiçekci\")"
   ]
  },
  {
   "cell_type": "code",
   "execution_count": 22,
   "metadata": {},
   "outputs": [
    {
     "data": {
      "text/plain": [
       "['c', 'ç', 'ç', 'e', 'i', 'i', 'k']"
      ]
     },
     "execution_count": 22,
     "metadata": {},
     "output_type": "execute_result"
    }
   ],
   "source": [
    "import locale\n",
    "locale.setlocale(locale.LC_ALL, \"Turkish_Turkey.1254\")\n",
    "sorted(\"çiçekci\", key=locale.strxfrm)"
   ]
  },
  {
   "cell_type": "markdown",
   "metadata": {},
   "source": [
    "yukarıda locae modülünü kullandık ayrıntıya şimdilik gerek yok sonra uğraşıcaz kendisi ile. Bu modüle ait setlocale() fonksiyonunu kullanarak dilimize göre ayar yaptık"
   ]
  },
  {
   "cell_type": "markdown",
   "metadata": {},
   "source": [
    "Ama ala bir sorun var bakalım şimdi"
   ]
  },
  {
   "cell_type": "code",
   "execution_count": 23,
   "metadata": {},
   "outputs": [
    {
     "data": {
      "text/plain": [
       "['a', 'd', 'f', 'g', 'h', 'i', 'ı', 'k']"
      ]
     },
     "execution_count": 23,
     "metadata": {},
     "output_type": "execute_result"
    }
   ],
   "source": [
    "sorted(\"afgdhkıi\",key=locale.strxfrm)"
   ]
  },
  {
   "cell_type": "markdown",
   "metadata": {},
   "source": [
    "Yukarıdaki örnekte bir sorun var alfabede \"ı\" \"i\" den önce gelir "
   ]
  },
  {
   "cell_type": "markdown",
   "metadata": {},
   "source": [
    "#### Not : bu iş uzuyor boş yere kafa karışıklığı yapacak bu neden le sorted () fonksiyonunu burada bırakıyoruz. Kısaca sorted fonksiyonu alfabetik olarak sıralamaya yarıyor ama türkçe için bazı durumlar ile kullanılacak."
   ]
  },
  {
   "cell_type": "markdown",
   "metadata": {},
   "source": [
    "### Karakter dizileri üzerinde değişiklik yapmak"
   ]
  },
  {
   "cell_type": "markdown",
   "metadata": {},
   "source": [
    "(şimdilik iyi geceler yorgunum. ama her akşam bakmalıyım en azından daha önceki çalışmalarımı gözden geçirmeliyim)"
   ]
  },
  {
   "cell_type": "code",
   "execution_count": null,
   "metadata": {},
   "outputs": [],
   "source": []
  }
 ],
 "metadata": {
  "kernelspec": {
   "display_name": "Python 3",
   "language": "python",
   "name": "python3"
  },
  "language_info": {
   "codemirror_mode": {
    "name": "ipython",
    "version": 3
   },
   "file_extension": ".py",
   "mimetype": "text/x-python",
   "name": "python",
   "nbconvert_exporter": "python",
   "pygments_lexer": "ipython3",
   "version": "3.7.0"
  }
 },
 "nbformat": 4,
 "nbformat_minor": 2
}
