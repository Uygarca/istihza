{
 "cells": [
  {
   "cell_type": "markdown",
   "metadata": {},
   "source": [
    "karakter dizileri üzerinde normalde değişiklik yapılamaz.Çünki karakter dizileri değiştirilemeyen veri tipidir. bunu bir örnek ile gösterelim"
   ]
  },
  {
   "cell_type": "code",
   "execution_count": 1,
   "metadata": {},
   "outputs": [
    {
     "data": {
      "text/plain": [
       "2966883010608"
      ]
     },
     "execution_count": 1,
     "metadata": {},
     "output_type": "execute_result"
    }
   ],
   "source": [
    "kardiz = \"mukadderat\"\n",
    "id(kardiz)"
   ]
  },
  {
   "cell_type": "markdown",
   "metadata": {},
   "source": [
    "Yukarıdaki değişkenin kimlik numarası şimdi aşağıda değişiklik sonrası bir daha kontrol edelim"
   ]
  },
  {
   "cell_type": "code",
   "execution_count": 10,
   "metadata": {},
   "outputs": [
    {
     "name": "stdout",
     "output_type": "stream",
     "text": [
      "Mukadderat\n"
     ]
    }
   ],
   "source": [
    "kardiz = \"mukadderat\"\n",
    "kardiz = \"M\" + kardiz [1:]\n",
    "print(kardiz)"
   ]
  },
  {
   "cell_type": "markdown",
   "metadata": {},
   "source": [
    "yukarıda karakter dizisinin ilk harfini değiştirerek yeniden oluşturmuş olduk hadi kimlik numarasını kontrol edelim"
   ]
  },
  {
   "cell_type": "code",
   "execution_count": 11,
   "metadata": {},
   "outputs": [
    {
     "data": {
      "text/plain": [
       "2966883011632"
      ]
     },
     "execution_count": 11,
     "metadata": {},
     "output_type": "execute_result"
    }
   ],
   "source": [
    "id(kardiz)"
   ]
  },
  {
   "cell_type": "markdown",
   "metadata": {},
   "source": [
    " her iki karakter dizisinin kimlik numaraları farklı bunun anlamı değiştirilemeyen veri tipleri üzerinde değişiklik yapmaya zorlarsak ortaya çıkan değişiklik her nekadar aynı değişken ismini kullanıyor olsada eski değişken silinmiş yerine yenisi oluşmuştur bunun kanıtı kimlik numarasıdır."
   ]
  },
  {
   "cell_type": "markdown",
   "metadata": {},
   "source": [
    "şimdi biraz örnek yapalım"
   ]
  },
  {
   "cell_type": "markdown",
   "metadata": {},
   "source": [
    "akılda kalması için bir çalışma daha yapalım"
   ]
  },
  {
   "cell_type": "code",
   "execution_count": 16,
   "metadata": {},
   "outputs": [
    {
     "name": "stdout",
     "output_type": "stream",
     "text": [
      "2966881435072\n",
      "2966882873168\n",
      "istİHza\n"
     ]
    }
   ],
   "source": [
    "isim = \"istihza\"\n",
    "print(id(isim))\n",
    "\n",
    "isim = isim[:3] + \"İH\" + isim[5:]\n",
    "print(id(isim))\n",
    "print(isim)"
   ]
  },
  {
   "cell_type": "markdown",
   "metadata": {},
   "source": [
    "Şimdi örneğimize geçelim."
   ]
  },
  {
   "cell_type": "markdown",
   "metadata": {},
   "source": [
    "bir kelime içerisindeki sesli ve sessiz harfleri ayırmamız gerekiyor. Kolay gelsin. "
   ]
  },
  {
   "cell_type": "code",
   "execution_count": 28,
   "metadata": {},
   "outputs": [
    {
     "name": "stdout",
     "output_type": "stream",
     "text": [
      "Sessiz harfler\t: tklştrmdklrmzdnmsnz  \n",
      "sesli harfler\t: öeieieeieiieiii\n"
     ]
    }
   ],
   "source": [
    "örnek = \"ötekileştiremediklerimizdenmisiniz\"\n",
    "#bu kelimeyi sesli ve sessiz harflere ayırmalıyız\n",
    "#bunun için sesli harflerin listesine ihtiya. var\n",
    "sesli_harfler = \"aeıioöuü\"\n",
    "\n",
    "#şimdi kelime içerisindeki tüm harfleri elimizdeki liste ile\n",
    "#kıyaslayacağız eğer harf sesli harf değil ise sessiz harfler listesine eklenecek\n",
    "\n",
    "sesliler = \"\"\n",
    "sessizler = \"\"\n",
    "\n",
    "for i in örnek:\n",
    "    if i in sesli_harfler:\n",
    "        sesliler += i\n",
    "    else:\n",
    "        sessizler +=i\n",
    "\n",
    "print(\"Sessiz harfler\\t:\",sessizler,\" \\nsesli harfler\\t:\",sesliler)"
   ]
  },
  {
   "cell_type": "markdown",
   "metadata": {},
   "source": [
    "### yukarıda önemli bir durumu anlatmalıyım\n",
    "sesliler ve sessizler adlı değişkeni for altında if ve else ile her seferinde önceki içeriğin üzerine verileri işleyerek yeniden oluşturuyoruz."
   ]
  },
  {
   "cell_type": "markdown",
   "metadata": {},
   "source": [
    "şimdi bir çok tekrar var tekrarlar konusunda daha önce bir çalışma olmuştu"
   ]
  }
 ],
 "metadata": {
  "kernelspec": {
   "display_name": "Python 3",
   "language": "python",
   "name": "python3"
  },
  "language_info": {
   "codemirror_mode": {
    "name": "ipython",
    "version": 3
   },
   "file_extension": ".py",
   "mimetype": "text/x-python",
   "name": "python",
   "nbconvert_exporter": "python",
   "pygments_lexer": "ipython3",
   "version": "3.7.0"
  }
 },
 "nbformat": 4,
 "nbformat_minor": 2
}
